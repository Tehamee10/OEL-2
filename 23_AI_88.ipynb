{
  "nbformat": 4,
  "nbformat_minor": 0,
  "metadata": {
    "colab": {
      "provenance": []
    },
    "kernelspec": {
      "name": "python3",
      "display_name": "Python 3"
    },
    "language_info": {
      "name": "python"
    }
  },
  "cells": [
    {
      "cell_type": "markdown",
      "source": [
        "OEL 2\n",
        "Roll no: 23-AI-88"
      ],
      "metadata": {
        "id": "cGQOdepDbQeV"
      }
    },
    {
      "cell_type": "markdown",
      "source": [
        "Implement BFS"
      ],
      "metadata": {
        "id": "LLWDWRqSbNGH"
      }
    },
    {
      "cell_type": "code",
      "source": [
        "import collections\n",
        "\n",
        "def bfs(graph,root,goalstate):\n",
        "  visited = set()\n",
        "  queue = collections.deque([root])\n",
        "  sum = 0\n",
        "  while queue:\n",
        "    vertex = queue.popleft()\n",
        "    if vertex not in visited:\n",
        "      sum+=vertex[1]\n",
        "      visited.add(vertex)\n",
        "    if vertex[0] == goalstate:\n",
        "      print(\"The Total distance between A to G is:\",sum)\n",
        "      return visited\n",
        "\n",
        "\n",
        "    for edge in graph[vertex[0]]:\n",
        "      if edge not in visited:\n",
        "         queue.append(edge)\n",
        "  return visited\n",
        "\n",
        "graph = {\n",
        " 'A': [('B', 6), ('C', 2)],\n",
        " 'B': [('D', 5), ('E', 3)],\n",
        " 'C': [('F', 4)],\n",
        " 'D': [('G', 2)],\n",
        " 'E': [('G', 6)],\n",
        " 'F': [('G', 1)],\n",
        " 'G': []\n",
        "}\n",
        "goalstate = 'G'\n",
        "root = ('A',0)\n",
        "print(bfs(graph,root,goalstate))"
      ],
      "metadata": {
        "colab": {
          "base_uri": "https://localhost:8080/"
        },
        "id": "5VPiUGqbRjz8",
        "outputId": "99589049-825c-4d03-d3d8-c254bf2089d0"
      },
      "execution_count": null,
      "outputs": [
        {
          "output_type": "stream",
          "name": "stdout",
          "text": [
            "The Total distance between A to G is: 22\n",
            "{('D', 5), ('C', 2), ('E', 3), ('G', 2), ('A', 0), ('F', 4), ('B', 6)}\n"
          ]
        }
      ]
    },
    {
      "cell_type": "markdown",
      "source": [
        "Implement DFS"
      ],
      "metadata": {
        "id": "y5vaA_qeUeL7"
      }
    },
    {
      "cell_type": "code",
      "source": [
        "import collections\n",
        "\n",
        "def dfs(graph,root,goalstate):\n",
        "  visited = set()\n",
        "  stack = collections.deque([root])\n",
        "  sum = 0\n",
        "  while stack:\n",
        "    vertex = stack.pop()\n",
        "    if vertex not in visited:\n",
        "      sum+=vertex[1]\n",
        "      visited.add(vertex)\n",
        "    if vertex[0] == goalstate:\n",
        "      print(\"The Total distance between A to G is:\",sum)\n",
        "      return visited\n",
        "\n",
        "\n",
        "    for edge in graph[vertex[0]]:\n",
        "      if edge not in visited:\n",
        "         stack.append(edge)\n",
        "  return visited\n",
        "\n",
        "graph = {\n",
        " 'A': [('B', 6), ('C', 2)],\n",
        " 'B': [('D', 5), ('E', 3)],\n",
        " 'C': [('F', 4)],\n",
        " 'D': [('G', 2)],\n",
        " 'E': [('G', 6)],\n",
        " 'F': [('G', 1)],\n",
        " 'G': []\n",
        "}\n",
        "goalstate = 'G'\n",
        "root = ('A',0)\n",
        "print(dfs(graph,root,goalstate))"
      ],
      "metadata": {
        "id": "YvbIrVhXUmWK",
        "colab": {
          "base_uri": "https://localhost:8080/"
        },
        "outputId": "fa120305-0298-4c7d-8c68-ea70bf3ca4cb"
      },
      "execution_count": 49,
      "outputs": [
        {
          "output_type": "stream",
          "name": "stdout",
          "text": [
            "The Total distance between A to G is: 7\n",
            "{('F', 4), ('G', 1), ('C', 2), ('A', 0)}\n"
          ]
        }
      ]
    }
  ]
}